{
  "nbformat": 4,
  "nbformat_minor": 0,
  "metadata": {
    "colab": {
      "name": "Hoaje-translator.ipynb",
      "private_outputs": true,
      "provenance": []
    },
    "kernelspec": {
      "name": "python3",
      "display_name": "Python 3"
    }
  },
  "cells": [
    {
      "cell_type": "code",
      "metadata": {
        "id": "ddh-UuGmgWsg"
      },
      "source": [
        "#Observe TensorFlow speedup on CPU Only\n",
        "%tensorflow_version 2.x\n",
        "import tensorflow as tf\n",
        "import timeit\n",
        "\n",
        "\n",
        "\n",
        "def cpu():\n",
        "  with tf.device('/cpu:0'):\n",
        "    random_image_cpu = tf.random.normal((100, 100, 100, 3))\n",
        "    net_cpu = tf.keras.layers.Conv2D(32, 7)(random_image_cpu)\n",
        "    return tf.math.reduce_sum(net_cpu)\n",
        "\n",
        "cpu()\n",
        "\n",
        "# Run the op several times.\n",
        "print('Time (s) to convolve 32x7x7x3 filter over random 100x100x100x3 images '\n",
        "      '(batch x height x width x channel). Sum of ten runs.')\n",
        "print('CPU (s):')\n",
        "cpu_time = timeit.timeit('cpu()', number=10, setup=\"from __main__ import cpu\")\n",
        "print(cpu_time)\n"
      ],
      "execution_count": null,
      "outputs": []
    },
    {
      "cell_type": "code",
      "metadata": {
        "id": "P6r_4Y1ThRMW"
      },
      "source": [
        "# PATH\n",
        "import os \n",
        "cwd = os.chdir('/content/drive/MyDrive/Colab Notebooks/')\n",
        "cwd = os.getcwd()  #returns current working directory of a process"
      ],
      "execution_count": null,
      "outputs": []
    },
    {
      "cell_type": "code",
      "metadata": {
        "id": "OWB-28k9hrd0"
      },
      "source": [],
      "execution_count": null,
      "outputs": []
    },
    {
      "cell_type": "markdown",
      "metadata": {
        "id": "tihYgiw2iJVZ"
      },
      "source": [
        "### ***Installing relevant repositories:***\n",
        "     [Googletrans: Free and Unlimited Google translate API for Python](https://py-googletrans.readthedocs.io) "
      ]
    },
    {
      "cell_type": "code",
      "metadata": {
        "id": "8F1vR1Guh4Kt"
      },
      "source": [
        "!pip install googletrans==3.1.0a0  # Quickstart"
      ],
      "execution_count": null,
      "outputs": []
    },
    {
      "cell_type": "code",
      "metadata": {
        "id": "A8baA_3UiXVC"
      },
      "source": [
        "# Import libraries\n",
        "import googletrans \n",
        "from googletrans import Translator"
      ],
      "execution_count": null,
      "outputs": []
    },
    {
      "cell_type": "code",
      "metadata": {
        "id": "_GhpHB35jYMU"
      },
      "source": [
        "# Checking diff. languages\n",
        "googletrans.LANGUAGES"
      ],
      "execution_count": null,
      "outputs": []
    },
    {
      "cell_type": "code",
      "metadata": {
        "id": "gdyyK_rTi2wM"
      },
      "source": [
        "translator = Translator() # Initialization\n",
        "outcome = translator.translate(\"Salut, bienvenue sur Hoaje-translator demo\", dest=\"sv\") # French-to-Swedish\n",
        "print(outcome)"
      ],
      "execution_count": null,
      "outputs": []
    },
    {
      "cell_type": "code",
      "metadata": {
        "id": "cwl-vfzVjKAE"
      },
      "source": [
        "outcome.text # display text output"
      ],
      "execution_count": null,
      "outputs": []
    },
    {
      "cell_type": "code",
      "metadata": {
        "id": "75-q0XJsn2Oh"
      },
      "source": [
        "outcome.extra_data"
      ],
      "execution_count": null,
      "outputs": []
    },
    {
      "cell_type": "code",
      "metadata": {
        "id": "eWsc88FLn4na"
      },
      "source": [],
      "execution_count": null,
      "outputs": []
    }
  ]
}